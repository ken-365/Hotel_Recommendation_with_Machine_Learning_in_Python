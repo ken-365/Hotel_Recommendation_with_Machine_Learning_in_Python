{
 "cells": [
  {
   "cell_type": "code",
   "execution_count": 1,
   "metadata": {
    "jupyter": {
     "source_hidden": true
    }
   },
   "outputs": [],
   "source": [
    "import datetime\n",
    "import pandas as pd\n",
    "import numpy as np\n",
    "import matplotlib.pyplot as plt\n",
    "import seaborn as sns\n",
    "%matplotlib inline\n",
    "from sklearn.ensemble import RandomForestClassifier\n",
    "from sklearn.model_selection import train_test_split\n",
    "from sklearn.preprocessing import StandardScaler\n",
    "from sklearn.decomposition import PCA\n",
    "from sklearn.metrics import classification_report\n",
    "from sklearn.metrics import confusion_matrix  \n",
    "from sklearn.metrics import accuracy_score"
   ]
  },
  {
   "cell_type": "code",
   "execution_count": 4,
   "metadata": {},
   "outputs": [],
   "source": [
    "df = pd.read_csv('train.csv', sep=',').dropna()\n",
    "df = df.sample(frac=0.01, random_state=99)"
   ]
  },
  {
   "cell_type": "code",
   "execution_count": 14,
   "metadata": {},
   "outputs": [],
   "source": [
    "dg = pd.read_csv('train.csv', sep=',').dropna()"
   ]
  },
  {
   "cell_type": "code",
   "execution_count": 33,
   "metadata": {},
   "outputs": [],
   "source": [
    "dd = dg.sample(frac=0.30, random_state=99)"
   ]
  },
  {
   "cell_type": "code",
   "execution_count": 38,
   "metadata": {},
   "outputs": [
    {
     "data": {
      "text/html": [
       "<div>\n",
       "<style scoped>\n",
       "    .dataframe tbody tr th:only-of-type {\n",
       "        vertical-align: middle;\n",
       "    }\n",
       "\n",
       "    .dataframe tbody tr th {\n",
       "        vertical-align: top;\n",
       "    }\n",
       "\n",
       "    .dataframe thead th {\n",
       "        text-align: right;\n",
       "    }\n",
       "</style>\n",
       "<table border=\"1\" class=\"dataframe\">\n",
       "  <thead>\n",
       "    <tr style=\"text-align: right;\">\n",
       "      <th></th>\n",
       "      <th>0</th>\n",
       "      <th>1</th>\n",
       "      <th>2</th>\n",
       "      <th>3</th>\n",
       "      <th>4</th>\n",
       "      <th>5</th>\n",
       "      <th>6</th>\n",
       "      <th>7</th>\n",
       "      <th>8</th>\n",
       "      <th>9</th>\n",
       "      <th>...</th>\n",
       "      <th>14</th>\n",
       "      <th>15</th>\n",
       "      <th>16</th>\n",
       "      <th>17</th>\n",
       "      <th>18</th>\n",
       "      <th>19</th>\n",
       "      <th>20</th>\n",
       "      <th>21</th>\n",
       "      <th>22</th>\n",
       "      <th>23</th>\n",
       "    </tr>\n",
       "  </thead>\n",
       "  <tbody>\n",
       "    <tr>\n",
       "      <th>0</th>\n",
       "      <td>date_time</td>\n",
       "      <td>site_name</td>\n",
       "      <td>posa_continent</td>\n",
       "      <td>user_location_country</td>\n",
       "      <td>user_location_region</td>\n",
       "      <td>user_location_city</td>\n",
       "      <td>orig_destination_distance</td>\n",
       "      <td>user_id</td>\n",
       "      <td>is_mobile</td>\n",
       "      <td>is_package</td>\n",
       "      <td>...</td>\n",
       "      <td>srch_children_cnt</td>\n",
       "      <td>srch_rm_cnt</td>\n",
       "      <td>srch_destination_id</td>\n",
       "      <td>srch_destination_type_id</td>\n",
       "      <td>is_booking</td>\n",
       "      <td>cnt</td>\n",
       "      <td>hotel_continent</td>\n",
       "      <td>hotel_country</td>\n",
       "      <td>hotel_market</td>\n",
       "      <td>hotel_cluster</td>\n",
       "    </tr>\n",
       "  </tbody>\n",
       "</table>\n",
       "<p>1 rows × 24 columns</p>\n",
       "</div>"
      ],
      "text/plain": [
       "          0          1               2                      3   \\\n",
       "0  date_time  site_name  posa_continent  user_location_country   \n",
       "\n",
       "                     4                   5                          6   \\\n",
       "0  user_location_region  user_location_city  orig_destination_distance   \n",
       "\n",
       "        7          8           9   ...                 14           15  \\\n",
       "0  user_id  is_mobile  is_package  ...  srch_children_cnt  srch_rm_cnt   \n",
       "\n",
       "                    16                        17          18   19  \\\n",
       "0  srch_destination_id  srch_destination_type_id  is_booking  cnt   \n",
       "\n",
       "                20             21            22             23  \n",
       "0  hotel_continent  hotel_country  hotel_market  hotel_cluster  \n",
       "\n",
       "[1 rows x 24 columns]"
      ]
     },
     "execution_count": 38,
     "metadata": {},
     "output_type": "execute_result"
    }
   ],
   "source": [
    "Description = ['Timestamp','']\n",
    "tmp1 = pd.DataFrame([df.columns.T])\n",
    "tmp1"
   ]
  }
 ],
 "metadata": {
  "kernelspec": {
   "display_name": "Python 3",
   "language": "python",
   "name": "python3"
  },
  "language_info": {
   "codemirror_mode": {
    "name": "ipython",
    "version": 3
   },
   "file_extension": ".py",
   "mimetype": "text/x-python",
   "name": "python",
   "nbconvert_exporter": "python",
   "pygments_lexer": "ipython3",
   "version": "3.7.3"
  }
 },
 "nbformat": 4,
 "nbformat_minor": 4
}
